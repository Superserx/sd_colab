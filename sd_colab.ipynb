{
  "nbformat": 4,
  "nbformat_minor": 0,
  "metadata": {
    "colab": {
      "provenance": [],
      "gpuType": "T4",
      "name": "sd_colab.ipynb",
      "include_colab_link": true
    },
    "kernelspec": {
      "name": "python3",
      "display_name": "Python 3"
    },
    "language_info": {
      "name": "python"
    },
    "accelerator": "GPU",
    "gpuClass": "standard"
  },
  "cells": [
    {
      "cell_type": "markdown",
      "metadata": {
        "id": "view-in-github",
        "colab_type": "text"
      },
      "source": [
        "<a href=\"https://colab.research.google.com/github/Superserx/sd_colab/blob/main/sd_colab.ipynb\" target=\"_parent\"><img src=\"https://colab.research.google.com/assets/colab-badge.svg\" alt=\"Open In Colab\"/></a>"
      ]
    },
    {
      "cell_type": "markdown",
      "source": [
        "# **StableDiffusion GColab version without any restrictions**\n",
        "\n",
        "![GitHub.png](data:image/png;base64,iVBORw0KGgoAAAANSUhEUgAAABAAAAAQCAYAAAAf8/9hAAAB2UlEQVR4AYzTM9wdQRQF8HMmNsv42S+23YdtbPZdbDvpu9io0sTJZ7uKzbdzM/Pbifl/WF0s7hI/6RlJpRQxh8BYAXrAIFAj4BUBjlSV5BXgO4QTDAabSeMW20nOB6Dwe1qAA82YW1lUVPQRBuGS0aTFeYCj8T9ErjVV3mRbRMEwnXfYZBG5T3IBgDw/Dk8FeOKvSxGAhSJyE+SYj9J429drDsbSnvmJ+R2EhamNumcy7eH07Nmn3ciRIxvDCERTO/3YVC4QyyQYiKZ3kFjuuhyrLMmfjb8wybsBLIEhwHYFyHg4GtyIf/kkX2NochXIrq77m+qSvDL8Q0VFfoNAHsEQsLuiSCP4mvXp06cJ/k1R0AqWiFJC1sEg2fj5u0/j8A+BSGYkyJbw1SoA1+BQuDuUSMTwB71i2RCU7IND8prSnj4IQEOwDpQH2lN5gVjqVCieGQDHPLq+wWj6BMUrJBCFT2vBQboAW3WOiAxRSs2FIICcmllRcf8RjHC4T2fdKGfXv7e3ojhviYLB3LuVJK6T6giFp0S41iQ/hlNWdteu6+9HGZ/ersZX7n0IxNJ73VSKm7zvB0jbYzbGxuJP7Gibe/BZDZCMhgAgMUU1HT109QAAAAD//wMAWIG6y3eBiWMAAAAASUVORK5CYII=) **[GitHub](https://github.com/AlexSgt/lite_colab)**"
      ],
      "metadata": {
        "id": "4X6nqvYZ7xBs"
      }
    },
    {
      "cell_type": "code",
      "source": [
        "#@markdown # Check type of GPU and VRAM available.\n",
        "!nvidia-smi --query-gpu=name,memory.total,memory.free --format=csv,noheader"
      ],
      "metadata": {
        "cellView": "form",
        "id": "9vfqmZIHFIMz"
      },
      "execution_count": null,
      "outputs": []
    },
    {
      "cell_type": "code",
      "source": [
        "#@title 1. Run this cell to install requirments\n",
        "\n",
        "from IPython.display import clear_output\n",
        "\n",
        "print('\u001b[1;32mInstalling requirements...')\n",
        "#%pip install --quiet blendmodes accelerate basicsr fonts font-roboto gfpgan gradio invisible-watermark numpy omegaconf opencv-contrib-python requests piexif Pillow pytorch-lightning==1.7.7 realesrgan scikit-image==0.19 timm==0.4.12 transformers==4.25.1 torch einops jsonmerge clean-fid resize-right torchdiffeq kornia lark inflection GitPython torchsde safetensors psutil rich\n",
        "#%cd /content/\n",
        "!git clone -q --branch main https://github.com/Superserx/sd_colab\n",
        "%cd /content/sd_colab\n",
        "%pip install -r requirements.txt --quiet\n",
        "!sed -i \"s@os.path.splitext(checkpoint_file)@os.path.splitext(checkpoint_file); map_location='cuda'@\" /content/sd_colab/modules/sd_models.py\n",
        "!sed -i 's@ui.create_ui().*@ui.create_ui();shared.demo.queue(concurrency_count=999999,status_update_rate=0.1)@' /content/sd_colab/startfk.py\n",
        "!sed -i \"s@map_location='cpu'@map_location='cuda'@\" /content/sd_colab/modules/extras.py\n",
        "!cp /content/sd_colab/assets/blocks.py /usr/local/lib/python3.10/dist-packages/gradio/blocks.py\n",
        "\n",
        "clear_output()\n",
        "print('\u001b[1;32mDone!')\n",
        "#!python launch.py --share --theme dark --api --ckpt-dir /content/models/ --disable-safe-unpickle --enable-insecure-extension-access --opt-sdp-attention --disable-console-progressbars --no-download-sd-model"
      ],
      "metadata": {
        "id": "ciseg_wdLz3S",
        "cellView": "form"
      },
      "execution_count": null,
      "outputs": []
    },
    {
      "cell_type": "code",
      "source": [
        "#@markdown **Download stable-diffusion model**\n",
        "\n",
        "MODEL_LINK = \"https://huggingface.co/XpucT/Deliberate/resolve/main/Deliberate.safetensors\" #@param {type:\"string\"}\n",
        "safetensors = True #@param {type:\"boolean\"}\n",
        "\n",
        "if MODEL_LINK != \"\":\n",
        "  pth = '/content/sd_colab/models/Stable-diffusion/'\n",
        "  if not safetensors:\n",
        "    modelname=\"model.ckpt\"\n",
        "  else:\n",
        "    modelname=\"model.safetensors\"\n",
        "  dwnld = pth + modelname\n",
        "  print('\u001b[1;32mDownload model...')\n",
        "  !gdown --fuzzy -O $dwnld \"$MODEL_LINK\"\n",
        "  clear_output()\n",
        "  print('\u001b[1;32mDone!')\n",
        "else:\n",
        "  print('\u001b[1;31mPaste model link and try again!')\n",
        "\n"
      ],
      "metadata": {
        "cellView": "form",
        "id": "QnLCXo9BTYOa"
      },
      "execution_count": null,
      "outputs": []
    },
    {
      "cell_type": "code",
      "source": [
        "#@markdown # Start SD\n",
        "\n",
        "!python launch.py --share --api --disable-safe-unpickle --enable-insecure-extension-access --opt-sdp-attention --disable-console-progressbars --no-download-sd-model"
      ],
      "metadata": {
        "cellView": "form",
        "id": "HAFOrFrYyZaY"
      },
      "execution_count": null,
      "outputs": []
    },
    {
      "cell_type": "code",
      "source": [
        "#@markdown # Save \"Outputs\" to GDrive\n",
        "\n",
        "from google.colab import drive\n",
        "drive.mount('/content/gdrive')\n",
        "\n",
        "!mkdir -p /content/gdrive/MyDrive/sd_colab/outputs\n",
        "!cp -r /content/sd_colab/outputs /content/gdrive/MyDrive/sd_colab\n",
        "\n",
        "clear_output()\n",
        "print('\u001b[1;32mDone!')"
      ],
      "metadata": {
        "id": "RMn-P7cuL-v4",
        "cellView": "form"
      },
      "execution_count": null,
      "outputs": []
    }
  ]
}